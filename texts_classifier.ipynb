{
  "cells": [
    {
      "cell_type": "markdown",
      "metadata": {},
      "source": [
        "## Text Classification"
      ]
    },
    {
      "cell_type": "code",
      "execution_count": 178,
      "metadata": {
        "id": "tNGRVO7_g9mz"
      },
      "outputs": [],
      "source": [
        "import numpy as np\n",
        "import pandas as pd\n",
        "from typing import  List\n",
        "import matplotlib.pyplot as plt\n",
        "import seaborn as sns\n",
        "from string import punctuation"
      ]
    },
    {
      "cell_type": "code",
      "execution_count": 179,
      "metadata": {
        "colab": {
          "base_uri": "https://localhost:8080/",
          "height": 174
        },
        "id": "zOy8iHJQg_Ss",
        "outputId": "01951c93-1976-4fd2-b432-f9ec217dbd17"
      },
      "outputs": [
        {
          "data": {
            "text/html": [
              "<div>\n",
              "<style scoped>\n",
              "    .dataframe tbody tr th:only-of-type {\n",
              "        vertical-align: middle;\n",
              "    }\n",
              "\n",
              "    .dataframe tbody tr th {\n",
              "        vertical-align: top;\n",
              "    }\n",
              "\n",
              "    .dataframe thead th {\n",
              "        text-align: right;\n",
              "    }\n",
              "</style>\n",
              "<table border=\"1\" class=\"dataframe\">\n",
              "  <thead>\n",
              "    <tr style=\"text-align: right;\">\n",
              "      <th></th>\n",
              "      <th>UserName</th>\n",
              "      <th>ScreenName</th>\n",
              "      <th>Location</th>\n",
              "      <th>TweetAt</th>\n",
              "      <th>OriginalTweet</th>\n",
              "      <th>Sentiment</th>\n",
              "    </tr>\n",
              "  </thead>\n",
              "  <tbody>\n",
              "    <tr>\n",
              "      <th>10609</th>\n",
              "      <td>16667</td>\n",
              "      <td>61619</td>\n",
              "      <td>Vancouver Island BC, Canada ?</td>\n",
              "      <td>21-03-2020</td>\n",
              "      <td>Did a little online shopping today and support...</td>\n",
              "      <td>Extremely Positive</td>\n",
              "    </tr>\n",
              "    <tr>\n",
              "      <th>21277</th>\n",
              "      <td>29750</td>\n",
              "      <td>74702</td>\n",
              "      <td>Toronto, ON</td>\n",
              "      <td>01-04-2020</td>\n",
              "      <td>Local food banks prepare for sharp increase in...</td>\n",
              "      <td>Positive</td>\n",
              "    </tr>\n",
              "    <tr>\n",
              "      <th>1254</th>\n",
              "      <td>5319</td>\n",
              "      <td>50271</td>\n",
              "      <td>Vineland, Ontatio</td>\n",
              "      <td>17-03-2020</td>\n",
              "      <td>RETAIL STORE UPDATE. \\r\\r\\nThe continued healt...</td>\n",
              "      <td>Positive</td>\n",
              "    </tr>\n",
              "    <tr>\n",
              "      <th>5700</th>\n",
              "      <td>10721</td>\n",
              "      <td>55673</td>\n",
              "      <td>Nashville</td>\n",
              "      <td>19-03-2020</td>\n",
              "      <td>If anyone calls you to get your info to send y...</td>\n",
              "      <td>Negative</td>\n",
              "    </tr>\n",
              "  </tbody>\n",
              "</table>\n",
              "</div>"
            ],
            "text/plain": [
              "       UserName  ScreenName                       Location     TweetAt  \\\n",
              "10609     16667       61619  Vancouver Island BC, Canada ?  21-03-2020   \n",
              "21277     29750       74702                    Toronto, ON  01-04-2020   \n",
              "1254       5319       50271              Vineland, Ontatio  17-03-2020   \n",
              "5700      10721       55673                      Nashville  19-03-2020   \n",
              "\n",
              "                                           OriginalTweet           Sentiment  \n",
              "10609  Did a little online shopping today and support...  Extremely Positive  \n",
              "21277  Local food banks prepare for sharp increase in...            Positive  \n",
              "1254   RETAIL STORE UPDATE. \\r\\r\\nThe continued healt...            Positive  \n",
              "5700   If anyone calls you to get your info to send y...            Negative  "
            ]
          },
          "execution_count": 179,
          "metadata": {},
          "output_type": "execute_result"
        }
      ],
      "source": [
        "df = pd.read_csv('tweets_coronavirus.csv', encoding='latin-1')\n",
        "df.sample(4)"
      ]
    },
    {
      "cell_type": "markdown",
      "metadata": {
        "id": "m2OiDog9ZBlS"
      },
      "source": [
        "Для каждого твитта указано:\n",
        "\n",
        "\n",
        "*   UserName - имя пользователя, заменено на целое число для анонимности\n",
        "*   ScreenName - отображающееся имя пользователя, заменено на целое число для анонимности\n",
        "*   Location - местоположение\n",
        "*   TweetAt - дата создания твитта\n",
        "*   OriginalTweet - текст твитта\n",
        "*   Sentiment - эмоциональная окраска твитта (целевая переменная)\n",
        "\n"
      ]
    },
    {
      "cell_type": "code",
      "execution_count": null,
      "metadata": {
        "id": "ZaQKQ1zEjP15"
      },
      "outputs": [
        {
          "data": {
            "text/html": [
              "<div>\n",
              "<style scoped>\n",
              "    .dataframe tbody tr th:only-of-type {\n",
              "        vertical-align: middle;\n",
              "    }\n",
              "\n",
              "    .dataframe tbody tr th {\n",
              "        vertical-align: top;\n",
              "    }\n",
              "\n",
              "    .dataframe thead th {\n",
              "        text-align: right;\n",
              "    }\n",
              "</style>\n",
              "<table border=\"1\" class=\"dataframe\">\n",
              "  <thead>\n",
              "    <tr style=\"text-align: right;\">\n",
              "      <th></th>\n",
              "      <th>UserName</th>\n",
              "      <th>ScreenName</th>\n",
              "      <th>Location</th>\n",
              "      <th>TweetAt</th>\n",
              "      <th>OriginalTweet</th>\n",
              "      <th>Sentiment</th>\n",
              "    </tr>\n",
              "  </thead>\n",
              "  <tbody>\n",
              "    <tr>\n",
              "      <th>27463</th>\n",
              "      <td>37473</td>\n",
              "      <td>82425</td>\n",
              "      <td>Copenhagen, Denmark</td>\n",
              "      <td>08-04-2020</td>\n",
              "      <td>A great article outlining how consumer behavio...</td>\n",
              "      <td>1</td>\n",
              "    </tr>\n",
              "    <tr>\n",
              "      <th>30661</th>\n",
              "      <td>41509</td>\n",
              "      <td>86461</td>\n",
              "      <td>Hatfield, UK</td>\n",
              "      <td>10-04-2020</td>\n",
              "      <td>@wearyrabbit Hi there - We're working closely ...</td>\n",
              "      <td>1</td>\n",
              "    </tr>\n",
              "    <tr>\n",
              "      <th>18520</th>\n",
              "      <td>26338</td>\n",
              "      <td>71290</td>\n",
              "      <td>Liverpool</td>\n",
              "      <td>25-03-2020</td>\n",
              "      <td>Just seen this in @MetroUK and thought it was ...</td>\n",
              "      <td>1</td>\n",
              "    </tr>\n",
              "    <tr>\n",
              "      <th>11472</th>\n",
              "      <td>17709</td>\n",
              "      <td>62661</td>\n",
              "      <td>Hampshire. Just the old one.</td>\n",
              "      <td>21-03-2020</td>\n",
              "      <td>Easy solution to stop panic buying: close supe...</td>\n",
              "      <td>0</td>\n",
              "    </tr>\n",
              "  </tbody>\n",
              "</table>\n",
              "</div>"
            ],
            "text/plain": [
              "       UserName  ScreenName                       Location     TweetAt  \\\n",
              "27463     37473       82425            Copenhagen, Denmark  08-04-2020   \n",
              "30661     41509       86461                   Hatfield, UK  10-04-2020   \n",
              "18520     26338       71290                      Liverpool  25-03-2020   \n",
              "11472     17709       62661  Hampshire. Just the old one.   21-03-2020   \n",
              "\n",
              "                                           OriginalTweet  Sentiment  \n",
              "27463  A great article outlining how consumer behavio...          1  \n",
              "30661  @wearyrabbit Hi there - We're working closely ...          1  \n",
              "18520  Just seen this in @MetroUK and thought it was ...          1  \n",
              "11472  Easy solution to stop panic buying: close supe...          0  "
            ]
          },
          "execution_count": 180,
          "metadata": {},
          "output_type": "execute_result"
        }
      ],
      "source": [
        "positives = ['Positive', 'Extremely Positive']\n",
        "df['Sentiment'] = df['Sentiment'].apply(lambda x: 1 if x in positives else 0 )\n",
        "df.sample(4)"
      ]
    },
    {
      "cell_type": "code",
      "execution_count": null,
      "metadata": {
        "id": "a7gdNtxckK5V"
      },
      "outputs": [
        {
          "data": {
            "text/plain": [
              "Sentiment\n",
              "1    18046\n",
              "0    15398\n",
              "Name: count, dtype: int64"
            ]
          },
          "execution_count": 181,
          "metadata": {},
          "output_type": "execute_result"
        }
      ],
      "source": [
        "df['Sentiment'].value_counts()"
      ]
    },
    {
      "cell_type": "markdown",
      "metadata": {
        "id": "Ng8BCelMkWb0"
      },
      "source": [
        "Позитивных твитов на 9% от общего количества больше, то есть данные сбалансированы неидеально, но не все так плохо."
      ]
    },
    {
      "cell_type": "code",
      "execution_count": null,
      "metadata": {
        "id": "UhUVRkR5kxa7"
      },
      "outputs": [
        {
          "data": {
            "text/plain": [
              "UserName            0\n",
              "ScreenName          0\n",
              "Location         7049\n",
              "TweetAt             0\n",
              "OriginalTweet       0\n",
              "Sentiment           0\n",
              "dtype: int64"
            ]
          },
          "execution_count": 182,
          "metadata": {},
          "output_type": "execute_result"
        }
      ],
      "source": [
        "df.isna().sum()"
      ]
    },
    {
      "cell_type": "code",
      "execution_count": 183,
      "metadata": {},
      "outputs": [
        {
          "data": {
            "text/plain": [
              "0                                  UK\n",
              "1                           Vagabonds\n",
              "2                             Unknown\n",
              "3                             Unknown\n",
              "4         ÃÂT: 36.319708,-82.363649\n",
              "                     ...             \n",
              "33439                            OHIO\n",
              "33440                         Unknown\n",
              "33441                         Unknown\n",
              "33442                         Unknown\n",
              "33443    i love you so much || he/him\n",
              "Name: Location, Length: 33444, dtype: object"
            ]
          },
          "execution_count": 183,
          "metadata": {},
          "output_type": "execute_result"
        }
      ],
      "source": [
        "df['Location'].fillna('Unknown')"
      ]
    },
    {
      "cell_type": "code",
      "execution_count": null,
      "metadata": {},
      "outputs": [],
      "source": [
        "from sklearn.model_selection import train_test_split\n",
        "\n",
        "train, test = train_test_split(df, test_size=0.3, random_state=42)"
      ]
    },
    {
      "cell_type": "code",
      "execution_count": null,
      "metadata": {
        "id": "SFr67WOJphny"
      },
      "outputs": [],
      "source": [
        "d = {}\n",
        "\n",
        "for i, row in train.iterrows():\n",
        "    tweet = row['OriginalTweet']\n",
        "    tokens = tweet.lower().split()\n",
        "    for t in tokens:\n",
        "        if t not in d.keys():\n",
        "            d[t] = 0\n",
        "        d[t] += 1"
      ]
    },
    {
      "cell_type": "code",
      "execution_count": null,
      "metadata": {
        "id": "Impi32a_pssg"
      },
      "outputs": [
        {
          "name": "stdout",
          "output_type": "stream",
          "text": [
            "the 26815\n",
            "to 23373\n",
            "and 14684\n",
            "of 13012\n",
            "a 11737\n",
            "in 11198\n",
            "for 8566\n",
            "#coronavirus 8223\n",
            "is 7383\n",
            "are 7050\n"
          ]
        }
      ],
      "source": [
        "top_10 = sorted(d.items(), key=lambda x: x[1], reverse=True)[:10]\n",
        "for t, p in top_10:\n",
        "    print(t,p)"
      ]
    },
    {
      "cell_type": "markdown",
      "metadata": {
        "id": "ZtuJCD0ApuFd"
      },
      "source": [
        "Наибольшей частотой обладают артикли, предлоги и союзы(очевидно, потому что это особенность речи), а также хэштег coronavirus, потому что это твиты про это заболевание. Сюда также попали глаголы is и am, потому что они тоже часто употребляются, что вызвано грамматикой английского языка."
      ]
    },
    {
      "cell_type": "code",
      "execution_count": null,
      "metadata": {
        "id": "8csSAdgTsnFx"
      },
      "outputs": [],
      "source": [
        "import nltk\n",
        "from nltk.corpus import stopwords\n",
        "\n",
        "nltk.download(\"stopwords\") \n",
        "stop_words = set(stopwords.words(\"english\"))\n",
        "for stop in stop_words:\n",
        "    if stop in d.keys():\n",
        "        d.pop(stop)"
      ]
    },
    {
      "cell_type": "code",
      "execution_count": null,
      "metadata": {
        "id": "2G1UkyVxzvFY"
      },
      "outputs": [],
      "source": [
        "from nltk.tokenize import TweetTokenizer\n",
        "\n",
        "tk = TweetTokenizer()\n",
        "\n",
        "d = {}\n",
        "\n",
        "for i, row in train.iterrows():\n",
        "    tweet = row['OriginalTweet']\n",
        "    tokens = tk.tokenize(tweet)\n",
        "    for t in tokens:\n",
        "        if t not in d.keys():\n",
        "            d[t] = 0\n",
        "        d[t] += 1"
      ]
    },
    {
      "cell_type": "code",
      "execution_count": null,
      "metadata": {
        "id": "ctEsB6xkFrrK"
      },
      "outputs": [],
      "source": [
        "def custom_tokenizer(text):\n",
        "  text = text.lower()\n",
        "  tk = TweetTokenizer()\n",
        "  tokens = tk.tokenize(text)\n",
        "  ts = [t for t in tokens if t not in stop_words and t not in punctuation and not (len(t) == 1 and ord(t) >= 128) and not t.startswith('https://t.co/')]\n",
        "\n",
        "  return ts"
      ]
    },
    {
      "cell_type": "code",
      "execution_count": 197,
      "metadata": {},
      "outputs": [
        {
          "data": {
            "text/plain": [
              "['sample', 'text', '@sample_text', '#sampletext']"
            ]
          },
          "execution_count": 197,
          "metadata": {},
          "output_type": "execute_result"
        }
      ],
      "source": [
        "custom_tokenizer('This is sample text!!!! @Sample_text I, \\x92\\x92 https://t.co/sample  #sampletext')"
      ]
    },
    {
      "cell_type": "code",
      "execution_count": 198,
      "metadata": {
        "colab": {
          "base_uri": "https://localhost:8080/"
        },
        "id": "XwbgtYkJGYym",
        "outputId": "5808765b-3448-45e6-ccc1-7cd65f6371ef"
      },
      "outputs": [
        {
          "data": {
            "text/plain": [
              "['sample', 'text', '@sample_text', '#sampletext']"
            ]
          },
          "execution_count": 198,
          "metadata": {},
          "output_type": "execute_result"
        }
      ],
      "source": [
        "custom_tokenizer('This is sample text!!!! @Sample_text I, \\x92\\x92 https://t.co/sample  #sampletext')"
      ]
    },
    {
      "cell_type": "code",
      "execution_count": null,
      "metadata": {
        "colab": {
          "base_uri": "https://localhost:8080/"
        },
        "id": "gHn_limQl3BI",
        "outputId": "8e9c1826-319f-4376-f06e-c30c2eb82648"
      },
      "outputs": [
        {
          "name": "stdout",
          "output_type": "stream",
          "text": [
            "45308\n"
          ]
        }
      ],
      "source": [
        "from sklearn.feature_extraction.text import CountVectorizer\n",
        "\n",
        "cv = CountVectorizer(tokenizer=custom_tokenizer)\n",
        "cv_table = cv.fit_transform(train.OriginalTweet)\n",
        "print(len(cv.vocabulary_))"
      ]
    },
    {
      "cell_type": "code",
      "execution_count": null,
      "metadata": {
        "id": "aJVjjfqOJh8m"
      },
      "outputs": [],
      "source": [
        "ind = 9023\n",
        "train.iloc[ind]['OriginalTweet'], train.iloc[ind]['Sentiment']"
      ]
    },
    {
      "cell_type": "code",
      "execution_count": 216,
      "metadata": {},
      "outputs": [
        {
          "data": {
            "text/plain": [
              "'Nice one @SkyNews lets not panic but show ppl in france queueing for food!!! #CoronavirusOutbreak #COVID2019 brainless!! Ffs'"
            ]
          },
          "execution_count": 216,
          "metadata": {},
          "output_type": "execute_result"
        }
      ],
      "source": [
        "text = train.iloc[ind]['OriginalTweet']\n",
        "text"
      ]
    },
    {
      "cell_type": "code",
      "execution_count": null,
      "metadata": {
        "id": "7NcAllaEKsJj"
      },
      "outputs": [
        {
          "data": {
            "text/plain": [
              "array([[0, 0, 0, ..., 0, 0, 0]], dtype=int64)"
            ]
          },
          "execution_count": 217,
          "metadata": {},
          "output_type": "execute_result"
        }
      ],
      "source": [
        "vectorized_text = cv.transform([text]).toarray()\n",
        "vectorized_text"
      ]
    },
    {
      "cell_type": "code",
      "execution_count": 218,
      "metadata": {},
      "outputs": [
        {
          "name": "stdout",
          "output_type": "stream",
          "text": [
            "Самый важный токен: #coronavirusoutbreak\n",
            "Самый неважный токен: ##coronavirus\n"
          ]
        }
      ],
      "source": [
        "max_index = np.argmax(vectorized_text)\n",
        "min_index = np.min(vectorized_text[np.nonzero(vectorized_text)])\n",
        "\n",
        "vocab = cv.vocabulary_\n",
        "inverse_vocab = {index: token for token, index in vocab.items()}\n",
        "\n",
        "most_important_token = inverse_vocab[max_index]\n",
        "least_important_token = inverse_vocab[min_index]\n",
        "\n",
        "print(f\"Самый важный токен: {most_important_token}\")\n",
        "print(f\"Самый неважный токен: {least_important_token}\")"
      ]
    },
    {
      "cell_type": "code",
      "execution_count": null,
      "metadata": {
        "id": "uSNzdK3ENGB3"
      },
      "outputs": [],
      "source": [
        "from sklearn.feature_extraction.text import TfidfVectorizer\n",
        "\n",
        "tfidf_v = TfidfVectorizer(tokenizer=custom_tokenizer)\n",
        "tfidf_table = tfidf_v.fit_transform(train.OriginalTweet)"
      ]
    },
    {
      "cell_type": "code",
      "execution_count": 220,
      "metadata": {},
      "outputs": [
        {
          "name": "stdout",
          "output_type": "stream",
          "text": [
            "(array([20553], dtype=int64),)\n",
            "(array([27042], dtype=int64),)\n"
          ]
        }
      ],
      "source": [
        "arr = tfidf_v.transform([train.iloc[ind][\"OriginalTweet\"]]).toarray()[0]\n",
        "\n",
        "print(np.where(arr == arr.max()))\n",
        "\n",
        "arr[arr == 0] = arr.max() + 1\n",
        "print(np.where(arr == arr.min()))"
      ]
    },
    {
      "cell_type": "code",
      "execution_count": 222,
      "metadata": {},
      "outputs": [
        {
          "name": "stdout",
          "output_type": "stream",
          "text": [
            "Важный:    brainless\n",
            "Неважный:  food\n"
          ]
        }
      ],
      "source": [
        "print(\"Важный:   \", tfidf_v.get_feature_names_out()[20553])\n",
        "print(\"Неважный: \", tfidf_v.get_feature_names_out()[27042])"
      ]
    },
    {
      "cell_type": "code",
      "execution_count": null,
      "metadata": {
        "id": "DguoiXhCX2oN"
      },
      "outputs": [],
      "source": [
        "cv_table = cv.fit_transform(train.OriginalTweet)\n",
        "tfidf_table = tfidf_v.fit_transform(train.OriginalTweet)\n",
        "y_train = train.Sentiment\n",
        "y_test = test.Sentiment"
      ]
    },
    {
      "cell_type": "code",
      "execution_count": null,
      "metadata": {
        "id": "-Tb3eh8UXJ6v"
      },
      "outputs": [
        {
          "name": "stdout",
          "output_type": "stream",
          "text": [
            "train:  0.984280222127296\n",
            "test:   0.8673510065776361\n",
            "train:  0.9244340025630072\n",
            "test:   0.8534981064381104\n"
          ]
        }
      ],
      "source": [
        "from sklearn.linear_model import LogisticRegression\n",
        "from sklearn.metrics import accuracy_score\n",
        "\n",
        "cv_table_test = cv.transform(test.OriginalTweet)\n",
        "\n",
        "clf = LogisticRegression(max_iter=200, random_state=0)\n",
        "clf.fit(cv_table, y_train)\n",
        "print(\"train: \", accuracy_score(y_train, clf.predict(cv_table)))\n",
        "print(\"test:  \", accuracy_score(y_test, clf.predict(cv_table_test)))\n",
        "\n",
        "tfidf_table_test = tfidf_v.transform(test.OriginalTweet)\n",
        "\n",
        "clf = LogisticRegression(max_iter=200, random_state=0)\n",
        "clf.fit(tfidf_table, y_train)\n",
        "print(\"train: \", accuracy_score(y_train, clf.predict(tfidf_table)))\n",
        "print(\"test:  \", accuracy_score(y_test, clf.predict(tfidf_table_test)))"
      ]
    },
    {
      "cell_type": "code",
      "execution_count": null,
      "metadata": {
        "id": "oVfA2-iMkQBb"
      },
      "outputs": [],
      "source": [
        "from nltk.stem.snowball import SnowballStemmer\n",
        "\n",
        "def custom_stem_tokenizer(text):\n",
        "    text = text.lower()\n",
        "    tk = TweetTokenizer()\n",
        "    tokens = tk.tokenize(text)\n",
        "    stemmer = SnowballStemmer(\"english\")\n",
        "    tokens = [stemmer.stem(t) for t in tokens]\n",
        "    ts = [t for t in tokens if t not in stop_words and t not in punctuation and not (len(t) == 1 and ord(t) >= 128) and not t.startswith('https://t.co/')]\n",
        "\n",
        "    return ts"
      ]
    },
    {
      "cell_type": "code",
      "execution_count": null,
      "metadata": {
        "id": "ykZJPphEoZ5W"
      },
      "outputs": [
        {
          "name": "stdout",
          "output_type": "stream",
          "text": [
            "train:  0.9690730457069628\n",
            "test:   0.8631652381901534\n",
            "train:  0.9151644596326356\n",
            "test:   0.85519234602352\n"
          ]
        }
      ],
      "source": [
        "cv_table_test = cv.transform(test.OriginalTweet)\n",
        "\n",
        "clf = LogisticRegression(max_iter=200, random_state=0)\n",
        "clf.fit(cv_table, y_train)\n",
        "print(\"train: \", accuracy_score(y_train, clf.predict(cv_table)))\n",
        "print(\"test:  \", accuracy_score(y_test, clf.predict(cv_table_test)))\n",
        "\n",
        "\n",
        "tfidf_table_test = tfidf_v.transform(test.OriginalTweet)\n",
        "\n",
        "clf = LogisticRegression(max_iter=200, random_state=0)\n",
        "clf.fit(tfidf_table, y_train)\n",
        "print(\"train: \", accuracy_score(y_train, clf.predict(tfidf_table)))\n",
        "print(\"test:  \", accuracy_score(y_test, clf.predict(tfidf_table_test)))"
      ]
    },
    {
      "cell_type": "code",
      "execution_count": null,
      "metadata": {
        "colab": {
          "base_uri": "https://localhost:8080/"
        },
        "id": "o3YLb8PViExb",
        "outputId": "b6d67654-d232-4e11-a5ca-6f2145053e98"
      },
      "outputs": [
        {
          "name": "stdout",
          "output_type": "stream",
          "text": [
            "36619\n"
          ]
        }
      ],
      "source": [
        "cv_df = CountVectorizer(tokenizer=custom_stem_tokenizer, max_df=0.34).fit(train.OriginalTweet)\n",
        "print(len(cv_df.vocabulary_))"
      ]
    },
    {
      "cell_type": "code",
      "execution_count": null,
      "metadata": {
        "id": "KBATXJX6LG9q"
      },
      "outputs": [
        {
          "name": "stdout",
          "output_type": "stream",
          "text": [
            "train:  0.9414780008543358\n",
            "test:   0.8450269085110624\n"
          ]
        }
      ],
      "source": [
        "from sklearn.preprocessing import StandardScaler\n",
        "\n",
        "train_mat = cv_df.transform(train.OriginalTweet).toarray()\n",
        "test_mat = cv_df.transform(test.OriginalTweet).toarray()\n",
        "\n",
        "scaler = StandardScaler()\n",
        "train_mat = scaler.fit_transform(train_mat)\n",
        "test_mat = scaler.transform(test_mat)\n",
        "\n",
        "clf = LogisticRegression(max_iter=200, random_state=0)\n",
        "clf.fit(train_mat, y_train)\n",
        "print(\"train: \", accuracy_score(y_train, clf.predict(train_mat)))\n",
        "print(\"test:  \", accuracy_score(y_test, clf.predict(test_mat)))"
      ]
    },
    {
      "cell_type": "code",
      "execution_count": 300,
      "metadata": {},
      "outputs": [
        {
          "data": {
            "text/plain": [
              "<Axes: xlabel='weight', ylabel='token'>"
            ]
          },
          "execution_count": 300,
          "metadata": {},
          "output_type": "execute_result"
        },
        {
          "data": {
            "image/png": "[encoded data removed]",
            "text/plain": [
              "<Figure size 640x480 with 1 Axes>"
            ]
          },
          "metadata": {},
          "output_type": "display_data"
        }
      ],
      "source": [
        "data = {\n",
        "    \"token\": cv_df.get_feature_names_out(),\n",
        "    \"weight\": clf.coef_[0],\n",
        "}\n",
        "\n",
        "tokens_weights = pd.DataFrame(data)\n",
        "tokens_weights = tokens_weights.sort_values(\"weight\", ascending=False)\n",
        "tw = tokens_weights.drop(tokens_weights.index[10:-10])\n",
        "\n",
        "sns.barplot(tw, y=\"token\", x=\"weight\", hue=(tw.weight > 0), legend=False)"
      ]
    },
    {
      "cell_type": "code",
      "execution_count": null,
      "metadata": {
        "id": "Lxb_k0JLirNv"
      },
      "outputs": [
        {
          "data": {
            "image/png": "[encoded data removed]",
            "text/plain": [
              "<Figure size 640x480 with 1 Axes>"
            ]
          },
          "metadata": {},
          "output_type": "display_data"
        }
      ],
      "source": [
        "df.TweetAt = pd.to_datetime(df.TweetAt)\n",
        "sns.histplot(df, y=\"TweetAt\", hue=df.Sentiment);"
      ]
    },
    {
      "cell_type": "code",
      "execution_count": null,
      "metadata": {
        "id": "J91YkhegJ0mz"
      },
      "outputs": [
        {
          "name": "stdout",
          "output_type": "stream",
          "text": [
            "Location\n",
            "London             435\n",
            "United States      416\n",
            "London, England    413\n",
            "Washington, DC     317\n",
            "New York, NY       302\n",
            "United Kingdom     286\n",
            "Los Angeles, CA    218\n",
            "India              216\n",
            "UK                 187\n",
            "USA                178\n",
            "Name: count, dtype: int64\n"
          ]
        },
        {
          "data": {
            "image/png": "[encoded data removed]",
            "text/plain": [
              "<Figure size 1000x600 with 1 Axes>"
            ]
          },
          "metadata": {},
          "output_type": "display_data"
        }
      ],
      "source": [
        "location_counts = df[df['Location'] != 'Unknown']['Location'].value_counts()\n",
        "\n",
        "top_10_locations = location_counts.head(10)\n",
        "print(top_10_locations)\n",
        "\n",
        "plt.figure(figsize=(10, 6))\n",
        "top_10_locations.plot(kind='bar')\n",
        "plt.title('Топ-10 местоположений по популярности')\n",
        "plt.xlabel('Местоположение')\n",
        "plt.ylabel('Количество')\n",
        "plt.xticks(rotation=45)\n",
        "plt.show()"
      ]
    },
    {
      "cell_type": "code",
      "execution_count": null,
      "metadata": {
        "id": "mSkow6acOMyD"
      },
      "outputs": [
        {
          "name": "stdout",
          "output_type": "stream",
          "text": [
            "Количество уникальных категорий в WiderLocation: 6118\n",
            "WiderLocation\n",
            "USA               1407\n",
            "England           1286\n",
            "CA                 868\n",
            "India              787\n",
            "UK                 565\n",
            "London             559\n",
            "United Kingdom     552\n",
            "NY                 552\n",
            "Canada             442\n",
            "United States      432\n",
            "Name: count, dtype: int64\n"
          ]
        },
        {
          "data": {
            "image/png": "[encoded data removed]",
            "text/plain": [
              "<Figure size 1000x600 with 1 Axes>"
            ]
          },
          "metadata": {},
          "output_type": "display_data"
        }
      ],
      "source": [
        "df['WiderLocation'] = df['Location'].apply(lambda x: x.split(',')[-1].strip() if pd.notna(x) else 'Unknown')\n",
        "\n",
        "unique_wider_locations = df['WiderLocation'].nunique()\n",
        "print(f'Количество уникальных категорий в WiderLocation: {unique_wider_locations}')\n",
        "\n",
        "wider_location_counts = df[df['WiderLocation'] != 'Unknown']['WiderLocation'].value_counts()\n",
        "\n",
        "top_10_wider_locations = wider_location_counts.head(10)\n",
        "print(top_10_wider_locations)\n",
        "\n",
        "plt.figure(figsize=(10, 6))\n",
        "top_10_wider_locations.plot(kind='bar')\n",
        "plt.title('Топ-10 широких местоположений по популярности')\n",
        "plt.xlabel('Широкое местоположение')\n",
        "plt.ylabel('Количество')\n",
        "plt.xticks(rotation=45)\n",
        "plt.show()"
      ]
    },
    {
      "cell_type": "code",
      "execution_count": 337,
      "metadata": {
        "id": "SeJBfBWgPvg_"
      },
      "outputs": [
        {
          "name": "stdout",
          "output_type": "stream",
          "text": [
            "Количество уникальных значений, встречающихся более одного раза: 1308\n"
          ]
        }
      ],
      "source": [
        "df['WiderLocation'] = df['Location'].apply(lambda x: x.split(',')[-1].strip() if pd.notna(x) else 'Unknown')\n",
        "\n",
        "location_counts = df['WiderLocation'].value_counts()\n",
        "\n",
        "locations_more_than_once = location_counts[location_counts > 1].index\n",
        "\n",
        "filtered_df = df[df['WiderLocation'].isin(locations_more_than_once)]\n",
        "\n",
        "ohe_df = pd.get_dummies(filtered_df['WiderLocation'])\n",
        "\n",
        "unique_locations_count = len(ohe_df.columns)\n",
        "print(f'Количество уникальных значений, встречающихся более одного раза: {unique_locations_count}')"
      ]
    }
  ],
  "metadata": {
    "colab": {
      "provenance": [],
      "toc_visible": true
    },
    "kernelspec": {
      "display_name": "Python 3",
      "name": "python3"
    },
    "language_info": {
      "codemirror_mode": {
        "name": "ipython",
        "version": 3
      },
      "file_extension": ".py",
      "mimetype": "text/x-python",
      "name": "python",
      "nbconvert_exporter": "python",
      "pygments_lexer": "ipython3",
      "version": "3.12.2"
    }
  },
  "nbformat": 4,
  "nbformat_minor": 0
}
